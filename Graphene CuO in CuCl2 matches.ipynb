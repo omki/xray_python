{
 "cells": [
  {
   "cell_type": "markdown",
   "metadata": {},
   "source": [
    "## Comparison of Graphene/CuO in CuCl2 to top 4 matches in database"
   ]
  },
  {
   "cell_type": "code",
   "execution_count": null,
   "metadata": {
    "collapsed": false
   },
   "outputs": [],
   "source": [
    "import csv\n",
    "import matplotlib.pyplot as plt\n",
    "from scipy.misc import imread\n",
    "import numpy as np\n",
    "from PIL import Image\n",
    "\n",
    "x = []\n",
    "y = []\n",
    "\n",
    "with open('xrd/Graphene_ZnO_in_CuCl2_before.xy','r') as f:\n",
    "    reader = csv.reader(f, delimiter='\\t')\n",
    "    for row in reader:\n",
    "        x.append(row[0])\n",
    "        y.append(row[1])\n",
    "\n",
    "y = [np.log10(float(i))*20-66 for i in y]\n",
    "\n",
    "matchFileNamesTop = [['Atacamite', 'Cu2 + 2( OH ) 3Cl', '25%'], \n",
    "                     ['Copper Chloride Hydroxide', 'Cu Cl2 * 3 Cu ( O H )2', '24%'], \n",
    "                     ['Botallackite', 'Cu2 +2 Cl ( O H )3 ', '21%'],\n",
    "                     ['Eriochalcite', 'Cu +2 Cl2 * 2 H2 O', '20%']]\n",
    "\n",
    "for mf in matchFileNamesTop:\n",
    "    fig = plt.figure(figsize=(10, 7), dpi=100)\n",
    "    # figure's title\n",
    "    plt.title(r\"GPCuO in CuCl2 vs \" + mf[0] + \" [\" + mf[1] + \"] \" + mf[2] + \" matched\", fontsize=14)\n",
    "    #img = Image.open(\"cytherea.jpg\"), \n",
    "    img = Image.open(\"graphs/\" + mf[0] + \"-1.png\")\n",
    "    img = img.crop( (116,1140,1587,2220) )\n",
    "    #fig1, ax1 = plt.subplots()\n",
    "    lines= plt.plot(x,y,'r', zorder=1)\n",
    "    # ax1.set_yscale('log')\n",
    "    plt.imshow(img, zorder=0, extent=[0, 100, 0, 66])\n",
    "    plt.xlabel(r'$2 \\theta$', fontsize=16)\n",
    "    plt.ylabel('Counts', fontsize=16)\n",
    "    plt.show()\n",
    "    # plt.savefig('figures/Graphene_CuO_CuCl2_comparison_with_database/' + mf[0] + '_topmatch.png', transparent=True)\n",
    "    \n",
    "\n"
   ]
  }
 ],
 "metadata": {
  "anaconda-cloud": {},
  "kernelspec": {
   "display_name": "Python [conda root]",
   "language": "python",
   "name": "conda-root-py"
  },
  "language_info": {
   "codemirror_mode": {
    "name": "ipython",
    "version": 2
   },
   "file_extension": ".py",
   "mimetype": "text/x-python",
   "name": "python",
   "nbconvert_exporter": "python",
   "pygments_lexer": "ipython2",
   "version": "2.7.12"
  }
 },
 "nbformat": 4,
 "nbformat_minor": 1
}
