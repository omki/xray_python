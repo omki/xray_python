{
 "cells": [
  {
   "cell_type": "markdown",
   "metadata": {},
   "source": [
    "# Graphene / metal oxide powders x-ray diffraction"
   ]
  },
  {
   "cell_type": "markdown",
   "metadata": {},
   "source": [
    "## Comparison of x-ray diffractions in the process of heating the samples"
   ]
  },
  {
   "cell_type": "markdown",
   "metadata": {},
   "source": [
    "### Plot componds of your choice\n",
    "Select which compound you want to plot and to be displayed in normal or logarithmic scale\n",
    "\n",
    "You can specify whether to show the plots in jupyter or save the on your computer"
   ]
  },
  {
   "cell_type": "code",
   "execution_count": null,
   "metadata": {
    "collapsed": false
   },
   "outputs": [],
   "source": [
    "import itertools\n",
    "import notebook_finder\n",
    "import xray_plots_helper_classes as xphc\n",
    "\n",
    "\n",
    "# ****** PLOT OPTIONS ******\n",
    "\n",
    "# here your can set how individual plots will show in figure in relation to each other\n",
    "# plotHeight, plotDistance, offset parameters in percentage [%] of figure height\n",
    "    # plotHeight ~> height of each plot in relation to the figure height\n",
    "    # plotDistance ~> how far are the plots spaced between each other f.ex. between 550ºC and  650ºC\n",
    "    # offset ~> the level at which the first plot will show above x axis\n",
    "plotsOptions = xphc.PlotsOptions(30, 24, 8)\n",
    "\n",
    "# files and target paths\n",
    "plotsOptions.xrdFilesPath = 'xrd/'\n",
    "plotsOptions.bgImagesPath = 'SEM/'\n",
    "plotsOptions.saveFiguresDestinationPath = 'figures/before and after heating/'\n",
    "\n",
    "plotsOptions.bgImagesFileNameSufixAndExtension = '_SEM_AfterElectrolysis.tif'\n",
    "plotsOptions.savedFiguresFileExtension = '.png'\n",
    "\n",
    "plotsOptions.legendBoxOpacity = 0.5\n",
    "plotsOptions.bgImageOpacity = 0.2\n",
    "\n",
    "\n",
    "# ****** PLOT COLORS ******\n",
    "\n",
    "# color themes ~> to modify a color theme, copy existing one and insert your changes there\n",
    "#                                      CuO/CuCl2  ZnO/CuCl2  Zno/FeCl3                   CuO/CuCl2  ZnO/CuCl2  Zno/FeCl3\n",
    "themes_first_suggestions = {'theme' : [\"#960018\", \"#456456\", \"#FFE5B4\"], 'background' : [\"#faeeee\", \"#defdef\", \"#4B201A\"]}\n",
    "themes_from_xrayholders  = {'theme' : [\"#faeeee\", \"#defdef\", \"#FFE5B4\"], 'background' : [\"#6D3721\", \"#CCB78A\", \"#4B201A\"]}\n",
    "\n",
    "# colors of the plots\n",
    "plotsColors_ver1 = ['#24fafa', '#fa2436', '#124872']\n",
    "\n",
    "# select your color theme from the options above\n",
    "theme = themes_from_xrayholders\n",
    "plotsColors = plotsColors_ver1\n",
    "\n",
    "\n",
    "# ****** SELECTION OF POWDERS ******\n",
    "\n",
    "# powders to select from \n",
    "electroCuOCucl2 = xphc.PowderAfterElectrolysis('CuO', 'CuCl2', 'Cu', theme['background'][0], theme['theme'][0])\n",
    "electroZnOCucl2 = xphc.PowderAfterElectrolysis('ZnO', 'CuCl2', 'Cu', theme['background'][1], theme['theme'][1])\n",
    "electroZnOFeCl3 = xphc.PowderAfterElectrolysis('ZnO', 'FeCl3', 'Steel', theme['background'][2], theme['theme'][2])\n",
    "\n",
    "# select compounds you would like to have plotted \n",
    "chosenFormulas = [electroZnOCucl2, electroZnOFeCl3, electroCuOCucl2]\n",
    "\n",
    "\n",
    "# ****** LOG AND/OR NORMAL PLOTS & SHOW OR SAVE FIGURES ******\n",
    "\n",
    "# Choose to show Normal y axis [False], log y axis [true] or both [False, True]\n",
    "isLogarithmic = [False, True]\n",
    "\n",
    "# Choose whether to save figures on the disk [True] or show in notebook [False]\n",
    "saveOnDisk = False\n",
    "\n",
    "\n",
    "# ****** PLOT RESULTS ******\n",
    "\n",
    "# iterate through combinations and make figuresx\n",
    "for x in list(itertools.product(chosenFormulas, isLogarithmic)):\n",
    "    xphc.plotBeforeAfterHeating(x[0], x[1], saveOnDisk, plotsColors, plotsOptions)\n",
    "    \n",
    "    "
   ]
  }
 ],
 "metadata": {
  "anaconda-cloud": {},
  "kernelspec": {
   "display_name": "Python [conda root]",
   "language": "python",
   "name": "conda-root-py"
  },
  "language_info": {
   "codemirror_mode": {
    "name": "ipython",
    "version": 2
   },
   "file_extension": ".py",
   "mimetype": "text/x-python",
   "name": "python",
   "nbconvert_exporter": "python",
   "pygments_lexer": "ipython2",
   "version": "2.7.12"
  }
 },
 "nbformat": 4,
 "nbformat_minor": 1
}
